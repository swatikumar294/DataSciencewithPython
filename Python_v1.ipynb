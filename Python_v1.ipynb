{
 "cells": [
  {
   "cell_type": "markdown",
   "metadata": {},
   "source": [
    "## Assigning Values to Variables"
   ]
  },
  {
   "cell_type": "code",
   "execution_count": 2,
   "metadata": {},
   "outputs": [
    {
     "name": "stdout",
     "output_type": "stream",
     "text": [
      "100\n",
      "1000.0\n",
      "Gaurav\n"
     ]
    }
   ],
   "source": [
    "counter = 100          # An integer assignment\n",
    "miles   = 1000.0       # A floating point\n",
    "name    = \"Gaurav\"       # A string\n",
    "\n",
    "print(counter)\n",
    "print(miles)\n",
    "print(name)"
   ]
  },
  {
   "cell_type": "markdown",
   "metadata": {},
   "source": [
    "## Multiple Assignment"
   ]
  },
  {
   "cell_type": "code",
   "execution_count": 3,
   "metadata": {},
   "outputs": [
    {
     "name": "stdout",
     "output_type": "stream",
     "text": [
      "1\n",
      "1\n",
      "1\n"
     ]
    }
   ],
   "source": [
    "# assign a single value to several variables simultaneously\n",
    "a = b = c = 1\n",
    "\n",
    "print(a)\n",
    "print(b)\n",
    "print(c)"
   ]
  },
  {
   "cell_type": "code",
   "execution_count": 4,
   "metadata": {},
   "outputs": [
    {
     "name": "stdout",
     "output_type": "stream",
     "text": [
      "a= 1\n",
      "2\n",
      "Gaurav\n",
      "0.001\n"
     ]
    }
   ],
   "source": [
    "a,b,c,d = 1,2,\"Gaurav\", 0.001\n",
    "\n",
    "print('a=',a)\n",
    "print(b)\n",
    "print(c)\n",
    "print(d)"
   ]
  },
  {
   "cell_type": "markdown",
   "metadata": {},
   "source": [
    "# Standard Data Types\n",
    "    * Numbers\n",
    "    * String\n",
    "    * List\n",
    "    * Tuple\n",
    "    * Dictionary"
   ]
  },
  {
   "cell_type": "markdown",
   "metadata": {},
   "source": [
    "# Python Numbers "
   ]
  },
  {
   "cell_type": "code",
   "execution_count": 5,
   "metadata": {},
   "outputs": [
    {
     "name": "stdout",
     "output_type": "stream",
     "text": [
      "1\n",
      "10\n",
      "10.002\n"
     ]
    }
   ],
   "source": [
    "var1 = 1\n",
    "var2 = 10\n",
    "var4= 10.002\n",
    "print(var1)\n",
    "print(var2)\n",
    "print(var4)"
   ]
  },
  {
   "cell_type": "markdown",
   "metadata": {},
   "source": [
    "## Python support four different numeriacal types\n",
    "* int (signed integers)\n",
    "* long (long integers, they can also be represented in octal and hexadecimal)\n",
    "* float (floating point real values)\n",
    "* complex (complex numbers) eg: x + yj\n"
   ]
  },
  {
   "cell_type": "markdown",
   "metadata": {},
   "source": [
    "# Python String\n",
    "\n",
    "* set of characters represented in the quotation marks.\n",
    "* Python allows for either pairs of single or double quotes."
   ]
  },
  {
   "cell_type": "code",
   "execution_count": 7,
   "metadata": {},
   "outputs": [
    {
     "name": "stdout",
     "output_type": "stream",
     "text": [
      "Data Science! \n",
      "asdfghjl\n",
      "123456\n",
      "sdfadg   123456 Data Science! \n"
     ]
    }
   ],
   "source": [
    "string = 'Data Science! '\n",
    "string_1 = \"asdfghjl\"\n",
    "str_1 = '123456' \n",
    "print(string) #  Prints complete list\n",
    "print(string_1)\n",
    "print(str_1)\n",
    "print('sdfadg  ', str_1, string)"
   ]
  },
  {
   "cell_type": "code",
   "execution_count": 8,
   "metadata": {},
   "outputs": [
    {
     "name": "stdout",
     "output_type": "stream",
     "text": [
      "j\n"
     ]
    }
   ],
   "source": [
    "print(string_1[6]) # Prints first element of the list"
   ]
  },
  {
   "cell_type": "code",
   "execution_count": 9,
   "metadata": {},
   "outputs": [
    {
     "name": "stdout",
     "output_type": "stream",
     "text": [
      "ta Science! \n"
     ]
    }
   ],
   "source": [
    "print(string[2:]) # Prints elements starting from 2nd element"
   ]
  },
  {
   "cell_type": "code",
   "execution_count": 10,
   "metadata": {},
   "outputs": [
    {
     "name": "stdout",
     "output_type": "stream",
     "text": [
      "Data S\n"
     ]
    }
   ],
   "source": [
    "string = 'Data Science! '\n",
    "print(string[0:6])  # Prints elements starting from 2nd till 9th "
   ]
  },
  {
   "cell_type": "code",
   "execution_count": 11,
   "metadata": {},
   "outputs": [
    {
     "name": "stdout",
     "output_type": "stream",
     "text": [
      "asdfghjl asdfghjl \n"
     ]
    }
   ],
   "source": [
    "string_1 = \"asdfghjl \"\n",
    "print(string_1 *2) # Prints string two times"
   ]
  },
  {
   "cell_type": "code",
   "execution_count": 13,
   "metadata": {},
   "outputs": [
    {
     "name": "stdout",
     "output_type": "stream",
     "text": [
      "asdfghjl   Test\n"
     ]
    }
   ],
   "source": [
    "print(string_1 , ' Test') # prints concating string"
   ]
  },
  {
   "cell_type": "code",
   "execution_count": 16,
   "metadata": {},
   "outputs": [
    {
     "name": "stdout",
     "output_type": "stream",
     "text": [
      "nce!\n"
     ]
    }
   ],
   "source": [
    "print(string[-5:-1])"
   ]
  },
  {
   "cell_type": "code",
   "execution_count": 19,
   "metadata": {},
   "outputs": [
    {
     "name": "stdout",
     "output_type": "stream",
     "text": [
      " eniSaa\n"
     ]
    }
   ],
   "source": [
    "#'Data Science!\n",
    "string = 'Data Science! '\n",
    "        \n",
    "print(string[   :  :-2]) # print reverse order    [start : stop : step]"
   ]
  },
  {
   "cell_type": "code",
   "execution_count": 20,
   "metadata": {},
   "outputs": [
    {
     "data": {
      "text/plain": [
       "'DATA SCIENCE! '"
      ]
     },
     "execution_count": 20,
     "metadata": {},
     "output_type": "execute_result"
    }
   ],
   "source": [
    "string.upper() # all letter"
   ]
  },
  {
   "cell_type": "code",
   "execution_count": 21,
   "metadata": {},
   "outputs": [
    {
     "data": {
      "text/plain": [
       "'Data science'"
      ]
     },
     "execution_count": 21,
     "metadata": {},
     "output_type": "execute_result"
    }
   ],
   "source": [
    "s = 'data science'\n",
    "s.capitalize() # 1st letter"
   ]
  },
  {
   "cell_type": "code",
   "execution_count": 22,
   "metadata": {},
   "outputs": [
    {
     "data": {
      "text/plain": [
       "'Data Science'"
      ]
     },
     "execution_count": 22,
     "metadata": {},
     "output_type": "execute_result"
    }
   ],
   "source": [
    "s.title() # all 1st letter"
   ]
  },
  {
   "cell_type": "markdown",
   "metadata": {},
   "source": [
    "# Python List\n",
    "* A list contains items separated by commas and enclosed within square brackets"
   ]
  },
  {
   "cell_type": "code",
   "execution_count": 31,
   "metadata": {
    "scrolled": true
   },
   "outputs": [
    {
     "name": "stdout",
     "output_type": "stream",
     "text": [
      "['abcd', 1234, 8.23, 'Radical', 0.01, (3+6j)]\n",
      "[67890, 'Gaurav']\n"
     ]
    }
   ],
   "source": [
    "#a= 1234 \n",
    "l1 = [ 'abcd', 1234 , 8.23, \"Radical\", 0.01,3+6j ]\n",
    "l2 = [ 67890, 'Gaurav']\n",
    "print(l1)\n",
    "print(l2)\n",
    "#print(a[2])"
   ]
  },
  {
   "cell_type": "code",
   "execution_count": 29,
   "metadata": {},
   "outputs": [
    {
     "name": "stdout",
     "output_type": "stream",
     "text": [
      "0.01\n"
     ]
    }
   ],
   "source": [
    "print(l1[4]) # # Prints complete list "
   ]
  },
  {
   "cell_type": "code",
   "execution_count": 32,
   "metadata": {},
   "outputs": [
    {
     "name": "stdout",
     "output_type": "stream",
     "text": [
      "[8.23]\n"
     ]
    }
   ],
   "source": [
    "l1 = [ 'abcd', 1234 , 8.23, 'Radical', 0.01,3+6j ]\n",
    "l2 = [ 67890, 'Gaurav']\n",
    "print(l1[2:3])       # Prints first element of the list"
   ]
  },
  {
   "cell_type": "code",
   "execution_count": 33,
   "metadata": {},
   "outputs": [
    {
     "name": "stdout",
     "output_type": "stream",
     "text": [
      "[8.23, 'Radical', 0.01, (3+6j)]\n"
     ]
    }
   ],
   "source": [
    "l1 = [ 'abcd', 1234 , 8.23, 'Radical', 0.01,3+6j ]\n",
    "l2 = [ 67890, 'Gaurav']\n",
    "print(l1[2:]) # Prints elements starting from 3rd element"
   ]
  },
  {
   "cell_type": "code",
   "execution_count": 34,
   "metadata": {},
   "outputs": [
    {
     "name": "stdout",
     "output_type": "stream",
     "text": [
      "[67890, 'Gaurav', 67890, 'Gaurav', 67890, 'Gaurav', 67890, 'Gaurav', 67890, 'Gaurav']\n"
     ]
    }
   ],
   "source": [
    "print(l2 * 5)  # Prints list two times"
   ]
  },
  {
   "cell_type": "code",
   "execution_count": 35,
   "metadata": {},
   "outputs": [
    {
     "name": "stdout",
     "output_type": "stream",
     "text": [
      "['abcd', 1234, 8.23, 'Radical', 0.01, (3+6j), 67890, 'Gaurav']\n"
     ]
    }
   ],
   "source": [
    "print(l1 + l2)"
   ]
  },
  {
   "cell_type": "code",
   "execution_count": 36,
   "metadata": {},
   "outputs": [
    {
     "name": "stdout",
     "output_type": "stream",
     "text": [
      "['xcvbnm', 'ChANDRA', 8.23, 'Radical', 0.01, (3+6j)]\n"
     ]
    }
   ],
   "source": [
    "l1[0] = 'xcvbnm'\n",
    "l1[1] = 'ChANDRA'\n",
    "print((l1))"
   ]
  },
  {
   "cell_type": "code",
   "execution_count": 39,
   "metadata": {},
   "outputs": [],
   "source": [
    "del l1 # delete list 1"
   ]
  },
  {
   "cell_type": "code",
   "execution_count": 37,
   "metadata": {},
   "outputs": [],
   "source": [
    "del l1[1]"
   ]
  },
  {
   "cell_type": "code",
   "execution_count": 40,
   "metadata": {},
   "outputs": [
    {
     "ename": "NameError",
     "evalue": "name 'l1' is not defined",
     "output_type": "error",
     "traceback": [
      "\u001b[1;31m---------------------------------------------------------------------------\u001b[0m",
      "\u001b[1;31mNameError\u001b[0m                                 Traceback (most recent call last)",
      "\u001b[1;32m<ipython-input-40-6cf485bc2797>\u001b[0m in \u001b[0;36m<module>\u001b[1;34m\u001b[0m\n\u001b[1;32m----> 1\u001b[1;33m \u001b[0ml1\u001b[0m\u001b[1;33m\u001b[0m\u001b[1;33m\u001b[0m\u001b[0m\n\u001b[0m",
      "\u001b[1;31mNameError\u001b[0m: name 'l1' is not defined"
     ]
    }
   ],
   "source": [
    "l1"
   ]
  },
  {
   "cell_type": "markdown",
   "metadata": {},
   "source": [
    "# Python Tuples\n",
    "*  Lists are enclosed in brackets  [ ] and their elements and size can be changed, \n",
    "*  tuples are enclosed in parentheses  ( )  and cannot be updated. \n",
    "    \n",
    "* A tuple consists of a number of values separated by commas"
   ]
  },
  {
   "cell_type": "code",
   "execution_count": 41,
   "metadata": {},
   "outputs": [],
   "source": [
    "t1 = ( 'abcd', 1234 , 8.23, 'Radical', 0.01 )\n",
    "t2 = (67890, 'Gaurav')"
   ]
  },
  {
   "cell_type": "code",
   "execution_count": 42,
   "metadata": {},
   "outputs": [
    {
     "name": "stdout",
     "output_type": "stream",
     "text": [
      "('abcd', 1234, 8.23, 'Radical', 0.01)\n"
     ]
    }
   ],
   "source": [
    "print(t1)"
   ]
  },
  {
   "cell_type": "code",
   "execution_count": 43,
   "metadata": {},
   "outputs": [
    {
     "ename": "TypeError",
     "evalue": "'tuple' object does not support item assignment",
     "output_type": "error",
     "traceback": [
      "\u001b[1;31m---------------------------------------------------------------------------\u001b[0m",
      "\u001b[1;31mTypeError\u001b[0m                                 Traceback (most recent call last)",
      "\u001b[1;32m<ipython-input-43-53d8f9d63b22>\u001b[0m in \u001b[0;36m<module>\u001b[1;34m\u001b[0m\n\u001b[1;32m----> 1\u001b[1;33m \u001b[0mt1\u001b[0m\u001b[1;33m[\u001b[0m\u001b[1;36m1\u001b[0m\u001b[1;33m]\u001b[0m \u001b[1;33m=\u001b[0m \u001b[1;36m2345\u001b[0m\u001b[1;33m\u001b[0m\u001b[1;33m\u001b[0m\u001b[0m\n\u001b[0m",
      "\u001b[1;31mTypeError\u001b[0m: 'tuple' object does not support item assignment"
     ]
    }
   ],
   "source": [
    "t1[1] = 2345"
   ]
  },
  {
   "cell_type": "code",
   "execution_count": 44,
   "metadata": {},
   "outputs": [
    {
     "data": {
      "text/plain": [
       "1234"
      ]
     },
     "execution_count": 44,
     "metadata": {},
     "output_type": "execute_result"
    }
   ],
   "source": [
    "t1[1]"
   ]
  },
  {
   "cell_type": "code",
   "execution_count": 45,
   "metadata": {},
   "outputs": [
    {
     "data": {
      "text/plain": [
       "(1234, 8.23, 'Radical')"
      ]
     },
     "execution_count": 45,
     "metadata": {},
     "output_type": "execute_result"
    }
   ],
   "source": [
    "t1[1:4]"
   ]
  },
  {
   "cell_type": "markdown",
   "metadata": {},
   "source": [
    "# Python Dictionary\n",
    "* kind of hash table type\n",
    "* consist of key-value pairs"
   ]
  },
  {
   "cell_type": "code",
   "execution_count": 60,
   "metadata": {},
   "outputs": [
    {
     "name": "stdout",
     "output_type": "stream",
     "text": [
      "{1: ['sdfds'], 0: [1], 2: [1234456]}\n"
     ]
    }
   ],
   "source": [
    "dt = {}\n",
    "dt[1]= ['sdfds']\n",
    "dt[0] = [1]\n",
    "dt[2]   =[1234456]\n",
    "print(dt)"
   ]
  },
  {
   "cell_type": "code",
   "execution_count": 52,
   "metadata": {},
   "outputs": [
    {
     "name": "stdout",
     "output_type": "stream",
     "text": [
      "{'Name': ['Gaurav', 'asdfg'], 'Class': 'Data Science', 1: [1, 3, 4, 5]}\n"
     ]
    }
   ],
   "source": [
    "dct1 = { 'Name': ['Gaurav','asdfg'], 'Class': 'Data Science', 1: [1,3,4,5]}\n",
    "print(dct1)"
   ]
  },
  {
   "cell_type": "code",
   "execution_count": 15,
   "metadata": {},
   "outputs": [
    {
     "name": "stdout",
     "output_type": "stream",
     "text": [
      "{'1': 123, '2': 432, '0': 456}\n",
      "1 2 0 123\n",
      "432\n",
      "456\n"
     ]
    }
   ],
   "source": [
    "# Dict is a hash table with key:Value\n",
    "dict1={'1':123,'2':432,'0':456}\n",
    "#dict1[1]=[123]\n",
    "#dict1[0]=[432]\n",
    "print(dict1)\n",
    "for i in dict1:\n",
    "     print(i,end=\" \")              # output takes only key from the dictionary\n",
    "for x in dict1.values():\n",
    "     print(x)                     # output will print values of dict\n",
    "    "
   ]
  },
  {
   "cell_type": "code",
   "execution_count": 58,
   "metadata": {},
   "outputs": [
    {
     "name": "stdout",
     "output_type": "stream",
     "text": [
      "['Gaurav', 'asdfg']\n"
     ]
    }
   ],
   "source": [
    "print(dct1['Name'])"
   ]
  },
  {
   "cell_type": "code",
   "execution_count": 64,
   "metadata": {},
   "outputs": [
    {
     "data": {
      "text/plain": [
       "[1234456]"
      ]
     },
     "execution_count": 64,
     "metadata": {},
     "output_type": "execute_result"
    }
   ],
   "source": [
    "dt[2]"
   ]
  },
  {
   "cell_type": "code",
   "execution_count": 65,
   "metadata": {},
   "outputs": [
    {
     "data": {
      "text/plain": [
       "dict_keys(['Name', 'Class', 1])"
      ]
     },
     "execution_count": 65,
     "metadata": {},
     "output_type": "execute_result"
    }
   ],
   "source": [
    "dct1 = { 'Name': ['Gaurav','asdfg'], 'Class': 'Data Science', 1: [1,3,4,5]}\n",
    "dct1.keys()"
   ]
  },
  {
   "cell_type": "code",
   "execution_count": 96,
   "metadata": {},
   "outputs": [
    {
     "data": {
      "text/plain": [
       "dict_items([('Name', ['Gaurav', 'asdfg']), ('Class', 'Data Science'), (1, [1, 3, 4, 5])])"
      ]
     },
     "execution_count": 96,
     "metadata": {},
     "output_type": "execute_result"
    }
   ],
   "source": [
    "dct1.items()"
   ]
  },
  {
   "cell_type": "code",
   "execution_count": 66,
   "metadata": {},
   "outputs": [
    {
     "data": {
      "text/plain": [
       "dict_values([['Gaurav', 'asdfg'], 'Data Science', [1, 3, 4, 5]])"
      ]
     },
     "execution_count": 66,
     "metadata": {},
     "output_type": "execute_result"
    }
   ],
   "source": [
    "dct1.values()"
   ]
  },
  {
   "cell_type": "markdown",
   "metadata": {},
   "source": [
    "# Operator"
   ]
  },
  {
   "cell_type": "code",
   "execution_count": 67,
   "metadata": {},
   "outputs": [
    {
     "data": {
      "text/plain": [
       "5.0"
      ]
     },
     "execution_count": 67,
     "metadata": {},
     "output_type": "execute_result"
    }
   ],
   "source": [
    "10/2 "
   ]
  },
  {
   "cell_type": "code",
   "execution_count": 69,
   "metadata": {},
   "outputs": [
    {
     "data": {
      "text/plain": [
       "0.0"
      ]
     },
     "execution_count": 69,
     "metadata": {},
     "output_type": "execute_result"
    }
   ],
   "source": [
    "10 % 2.5"
   ]
  },
  {
   "cell_type": "code",
   "execution_count": 75,
   "metadata": {},
   "outputs": [
    {
     "data": {
      "text/plain": [
       "2"
      ]
     },
     "execution_count": 75,
     "metadata": {},
     "output_type": "execute_result"
    }
   ],
   "source": [
    "round(7/3) # Division"
   ]
  },
  {
   "cell_type": "code",
   "execution_count": 71,
   "metadata": {},
   "outputs": [
    {
     "data": {
      "text/plain": [
       "5"
      ]
     },
     "execution_count": 71,
     "metadata": {},
     "output_type": "execute_result"
    }
   ],
   "source": [
    "10//2  #Floor division"
   ]
  },
  {
   "cell_type": "markdown",
   "metadata": {},
   "source": [
    "* and --> x<5 and x<10 \n",
    "* or  --> x<5 or x<10\n",
    "* not -->   not(x<5 and x<10) "
   ]
  },
  {
   "cell_type": "code",
   "execution_count": 76,
   "metadata": {},
   "outputs": [
    {
     "data": {
      "text/plain": [
       "['abcd', 1234, 8.23, 'Radical', 0.01, (3+6j)]"
      ]
     },
     "execution_count": 76,
     "metadata": {},
     "output_type": "execute_result"
    }
   ],
   "source": [
    "l1 = [ 'abcd', 1234 , 8.23, 'Radical', 0.01,3+6j ]\n",
    "l1"
   ]
  },
  {
   "cell_type": "code",
   "execution_count": 19,
   "metadata": {},
   "outputs": [
    {
     "name": "stdout",
     "output_type": "stream",
     "text": [
      "abcd\n",
      "1234\n",
      "8.23\n",
      "Radical\n",
      "0.01\n",
      "(3+6j)\n"
     ]
    }
   ],
   "source": [
    "l1 = [ 'abcd', 1234 , 8.23, 'Radical', 0.01,3+6j ]\n",
    "for i in l1:\n",
    "    print(i)\n",
    "    "
   ]
  },
  {
   "cell_type": "code",
   "execution_count": 83,
   "metadata": {},
   "outputs": [
    {
     "name": "stdout",
     "output_type": "stream",
     "text": [
      "i=  0 j=  abcd\n",
      "i=  1 j=  1234\n",
      "i=  2 j=  8.23\n",
      "i=  3 j=  Radical\n",
      "i=  4 j=  0.01\n",
      "i=  5 j=  (3+6j)\n"
     ]
    }
   ],
   "source": [
    "l1 = [ 'abcd', 1234 , 8.23, 'Radical', 0.01,3+6j ]\n",
    "for i,j in enumerate(l1):                         # mentions things one by one\n",
    "    print('i= ',i, 'j= ',j)"
   ]
  },
  {
   "cell_type": "code",
   "execution_count": 85,
   "metadata": {},
   "outputs": [
    {
     "name": "stdout",
     "output_type": "stream",
     "text": [
      "abcd\n",
      "1234\n",
      "8.23\n",
      "Radical\n",
      "0.01\n",
      "(3+6j)\n"
     ]
    }
   ],
   "source": [
    "for q in l1:\n",
    "    print(q)"
   ]
  },
  {
   "cell_type": "code",
   "execution_count": 89,
   "metadata": {},
   "outputs": [
    {
     "name": "stdout",
     "output_type": "stream",
     "text": [
      "index=abcd,value=0\n",
      "index=1234,value=1\n",
      "index=8.23,value=2\n",
      "index=Radical,value=3\n",
      "index=0.01,value=4\n",
      "index=(3+6j),value=5\n"
     ]
    }
   ],
   "source": [
    "l1 = [ 'abcd', 1234 , 8.23, 'Radical', 0.01,3+6j ]\n",
    "for index,value in enumerate(l1):\n",
    "    print('index={},value={}'.format(value,index))  # .join \n",
    "    #print(l2)\n",
    "    \n",
    "#print(l1)"
   ]
  },
  {
   "cell_type": "code",
   "execution_count": 90,
   "metadata": {},
   "outputs": [
    {
     "name": "stdout",
     "output_type": "stream",
     "text": [
      "abcd\n",
      "67890\n",
      "Gaurav\n",
      "1234\n",
      "67890\n",
      "Gaurav\n",
      "8.23\n",
      "67890\n",
      "Gaurav\n"
     ]
    }
   ],
   "source": [
    "t1 = [ 'abcd', 1234 , 8.23, 'Radical', 0.01 ]\n",
    "t2 = [67890, 'Gaurav']\n",
    "for i in t1[0:3]:\n",
    "    print(i)\n",
    "    for j in t2:\n",
    "        print(j)"
   ]
  },
  {
   "cell_type": "code",
   "execution_count": 92,
   "metadata": {},
   "outputs": [
    {
     "name": "stdout",
     "output_type": "stream",
     "text": [
      "greater than 5\n"
     ]
    }
   ],
   "source": [
    "x= 3\n",
    "\n",
    "if x>10:\n",
    "    print('Greater than 10')\n",
    "\n",
    "if x>5 or x < 10:       #  | \n",
    "    print('greater than 5')\n",
    "\n",
    "else:\n",
    "    print('No')\n"
   ]
  },
  {
   "cell_type": "code",
   "execution_count": 22,
   "metadata": {},
   "outputs": [
    {
     "name": "stdout",
     "output_type": "stream",
     "text": [
      "Less than 10\n",
      "InBetween\n",
      "NO\n"
     ]
    }
   ],
   "source": [
    "# greater than equal to\n",
    "\n",
    "i=4\n",
    "if i<10:\n",
    "    print(\"Less than 10\")\n",
    "if i>1 or i<8:\n",
    "    print(\"InBetween\")\n",
    "if i>8:\n",
    "    print(\"Greater\")\n",
    "else:\n",
    "    print(\"NO\")"
   ]
  },
  {
   "cell_type": "code",
   "execution_count": 23,
   "metadata": {},
   "outputs": [
    {
     "name": "stdout",
     "output_type": "stream",
     "text": [
      "not in  p\n"
     ]
    },
    {
     "data": {
      "text/plain": [
       "'for i in p:\\n    if i != r:'"
      ]
     },
     "execution_count": 23,
     "metadata": {},
     "output_type": "execute_result"
    }
   ],
   "source": [
    "p = [1,2,3,4,5]\n",
    "r =9\n",
    "if r in p: print(' find')  # == in    # != not in  \n",
    "    \n",
    "else:print('not in  p')\n",
    "    \n",
    "    \n",
    "'''for i in p:\n",
    "    if i != r:'''"
   ]
  },
  {
   "cell_type": "code",
   "execution_count": null,
   "metadata": {},
   "outputs": [],
   "source": [
    "print 'hi' # py 2\n",
    "print('hi')"
   ]
  }
 ],
 "metadata": {
  "kernelspec": {
   "display_name": "Python 3",
   "language": "python",
   "name": "python3"
  },
  "language_info": {
   "codemirror_mode": {
    "name": "ipython",
    "version": 3
   },
   "file_extension": ".py",
   "mimetype": "text/x-python",
   "name": "python",
   "nbconvert_exporter": "python",
   "pygments_lexer": "ipython3",
   "version": "3.6.5"
  }
 },
 "nbformat": 4,
 "nbformat_minor": 2
}
